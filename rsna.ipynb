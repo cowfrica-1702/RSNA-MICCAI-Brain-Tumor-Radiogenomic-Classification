{
 "cells": [
  {
   "cell_type": "markdown",
   "metadata": {},
   "source": [
    "## 1. Setup"
   ]
  },
  {
   "cell_type": "code",
   "execution_count": null,
   "metadata": {
    "_cell_guid": "b1076dfc-b9ad-4769-8c92-a6c4dae69d19",
    "_uuid": "8f2839f25d086af736a60e9eeb907d3b93b6e0e5",
    "execution": {
     "iopub.execute_input": "2021-08-27T19:28:35.691705Z",
     "iopub.status.busy": "2021-08-27T19:28:35.691386Z",
     "iopub.status.idle": "2021-08-27T19:28:37.703749Z",
     "shell.execute_reply": "2021-08-27T19:28:37.702903Z",
     "shell.execute_reply.started": "2021-08-27T19:28:35.691624Z"
    }
   },
   "outputs": [],
   "source": [
    "import os\n",
    "import glob\n",
    "import re\n",
    "from tqdm import tqdm_notebook as tqdm\n",
    "import random\n",
    "import numpy as np\n",
    "import torch\n",
    "import torch.nn as nn\n",
    "from torch.utils.data import Dataset, DataLoader\n",
    "from torch.nn import functional\n",
    "import pandas as pd\n",
    "import matplotlib.pyplot as plt\n",
    "import matplotlib\n",
    "import cv2\n",
    "from sklearn.metrics import roc_auc_score\n",
    "from sklearn import model_selection\n",
    "from torch.optim.lr_scheduler import CosineAnnealingLR\n",
    "\n",
    "import warnings\n",
    "warnings.filterwarnings(\"ignore\")"
   ]
  },
  {
   "cell_type": "code",
   "execution_count": null,
   "metadata": {
    "execution": {
     "iopub.execute_input": "2021-08-27T19:28:37.707225Z",
     "iopub.status.busy": "2021-08-27T19:28:37.706959Z",
     "iopub.status.idle": "2021-08-27T19:28:37.767059Z",
     "shell.execute_reply": "2021-08-27T19:28:37.766297Z",
     "shell.execute_reply.started": "2021-08-27T19:28:37.707199Z"
    }
   },
   "outputs": [],
   "source": [
    "def set_seed(seed):\n",
    "    random.seed(seed)\n",
    "    os.environ[\"PYTHONHASHSEED\"] = str(seed)\n",
    "    np.random.seed(seed)\n",
    "    torch.manual_seed(seed)\n",
    "    if torch.cuda.is_available():\n",
    "        torch.cuda.manual_seed_all(seed)\n",
    "        torch.backends.cudnn.deterministic = True\n",
    "\n",
    "set_seed(38)"
   ]
  },
  {
   "cell_type": "code",
   "execution_count": null,
   "metadata": {
    "execution": {
     "iopub.execute_input": "2021-08-27T19:28:37.770648Z",
     "iopub.status.busy": "2021-08-27T19:28:37.770386Z",
     "iopub.status.idle": "2021-08-27T19:28:38.20732Z",
     "shell.execute_reply": "2021-08-27T19:28:38.206507Z",
     "shell.execute_reply.started": "2021-08-27T19:28:37.770623Z"
    }
   },
   "outputs": [],
   "source": [
    "# local notebook settings\n",
    "# from efficientnet_pytorch_3d import EfficientNet3D\n",
    "# train_path = 'train_labels.csv'\n",
    "# test_path = 'sample_submission_csv'\n",
    "# png_path = 'archive'\n",
    "# from volumentations import *\n",
    "\n",
    "\n",
    "# kaggle settings\n",
    "import sys\n",
    "sys.path.append('../input/efficientnetpyttorch3d/EfficientNet-PyTorch-3D')\n",
    "from efficientnet_pytorch_3d import EfficientNet3D\n",
    "\n",
    "sys.path.append('../input/3d-augmentation/volumentations-master')\n",
    "from volumentations import *\n",
    "\n",
    "sys.path.append('../input/gradualwarmupschedulerv2')\n",
    "from warmup_scheduler import GradualWarmupScheduler\n",
    "\n",
    "train_path = '../input/rsna-miccai-brain-tumor-radiogenomic-classification/train_labels.csv'\n",
    "test_path = '../input/rsna-miccai-brain-tumor-radiogenomic-classification/sample_submission.csv'\n",
    "png_path = '../input/rsna-miccai-png'"
   ]
  },
  {
   "cell_type": "code",
   "execution_count": null,
   "metadata": {
    "execution": {
     "iopub.execute_input": "2021-08-27T19:28:38.209084Z",
     "iopub.status.busy": "2021-08-27T19:28:38.20876Z",
     "iopub.status.idle": "2021-08-27T19:28:38.213298Z",
     "shell.execute_reply": "2021-08-27T19:28:38.212247Z",
     "shell.execute_reply.started": "2021-08-27T19:28:38.209047Z"
    }
   },
   "outputs": [],
   "source": [
    "img_size = 256\n",
    "num_img = 64\n",
    "mri_types = [\"FLAIR\", \"T1w\", \"T1wCE\", \"T2w\"]"
   ]
  },
  {
   "cell_type": "markdown",
   "metadata": {},
   "source": [
    "## 2. Dataloader"
   ]
  },
  {
   "cell_type": "code",
   "execution_count": null,
   "metadata": {
    "execution": {
     "iopub.execute_input": "2021-08-27T19:28:38.215211Z",
     "iopub.status.busy": "2021-08-27T19:28:38.214823Z",
     "iopub.status.idle": "2021-08-27T19:28:38.226935Z",
     "shell.execute_reply": "2021-08-27T19:28:38.226073Z",
     "shell.execute_reply.started": "2021-08-27T19:28:38.215178Z"
    }
   },
   "outputs": [],
   "source": [
    "def load_image(scan_id, mri_type, split='train', path=png_path):\n",
    "    mri = sorted(glob.glob(f\"{path}/{split}/{scan_id}/{mri_type}/*.png\"), \n",
    "                 key=lambda var:[int(x) if x.isdigit() else x for x in re.findall(r'[^0-9]|[0-9]+', var)])\n",
    "    \n",
    "    if len(mri) == 0:\n",
    "        i_img = np.zeros((img_size, img_size, num_img))\n",
    "    elif len(mri) < num_img:\n",
    "        i_img = np.array([cv2.resize(cv2.imread(path, cv2.IMREAD_GRAYSCALE), (img_size, img_size))\n",
    "                        for path in mri[0:num_img]]).T \n",
    "        num_zero = num_img - i_img.shape[-1]\n",
    "        i_img.shape[-1]\n",
    "        i_img = np.concatenate((i_img, np.zeros((img_size, img_size, num_zero))), -1)\n",
    "    else: \n",
    "        i_img = np.array([cv2.resize(cv2.imread(path, cv2.IMREAD_GRAYSCALE), (img_size, img_size)) \n",
    "                         for path in mri[len(mri) // 2 - num_img // 2: len(mri) // 2 + num_img // 2]]).T\n",
    "            \n",
    "    return i_img"
   ]
  },
  {
   "cell_type": "code",
   "execution_count": null,
   "metadata": {
    "execution": {
     "iopub.execute_input": "2021-08-27T19:28:38.22885Z",
     "iopub.status.busy": "2021-08-27T19:28:38.228473Z",
     "iopub.status.idle": "2021-08-27T19:28:38.240241Z",
     "shell.execute_reply": "2021-08-27T19:28:38.239527Z",
     "shell.execute_reply.started": "2021-08-27T19:28:38.228814Z"
    }
   },
   "outputs": [],
   "source": [
    "class RSNADataset(Dataset):\n",
    "    def __init__(self, csv, mri_type, mode='train', transform=None):\n",
    "        self.csv = csv\n",
    "        self.mode = mode\n",
    "        self.transform = transform\n",
    "        self.mri_type = mri_type\n",
    "        \n",
    "    def __len__(self): \n",
    "        return self.csv.shape[0]\n",
    "    \n",
    "    def __getitem__(self, idx): \n",
    "        data = self.csv.iloc[idx]\n",
    "        brat = str(int(data[\"BraTS21ID\"])).zfill(5)\n",
    "        mgmt = data['MGMT_value']\n",
    "        \n",
    "        image = load_image(brat, self.mri_type, self.mode)\n",
    "\n",
    "        if self.transform is not None:\n",
    "            data = {'image': image}\n",
    "            aug_data = self.transform(**data)\n",
    "            image = aug_data['image']\n",
    "            \n",
    "        image = image.transpose(2,1,0)           \n",
    "        image = image / 255\n",
    "        \n",
    "        if self.mode == 'train': \n",
    "            return torch.tensor(image, dtype=torch.float32), torch.tensor(mgmt, dtype=torch.float)\n",
    "        else: \n",
    "            return torch.tensor(image, dtype=torch.float32), brat\n",
    "            "
   ]
  },
  {
   "cell_type": "code",
   "execution_count": null,
   "metadata": {
    "execution": {
     "iopub.execute_input": "2021-08-27T19:28:38.242427Z",
     "iopub.status.busy": "2021-08-27T19:28:38.242161Z",
     "iopub.status.idle": "2021-08-27T19:28:38.251303Z",
     "shell.execute_reply": "2021-08-27T19:28:38.250459Z",
     "shell.execute_reply.started": "2021-08-27T19:28:38.242404Z"
    }
   },
   "outputs": [],
   "source": [
    "transforms_train = Compose([\n",
    "        Flip(-3, p=0.5),\n",
    "        GaussianNoise(var_limit=(1, 10), mean=6, p=0.35),\n",
    "        ElasticTransformPseudo2D(alpha=300, sigma=300 * 0.05, alpha_affine=300 * 0.03, p=0.1),\n",
    "        RandomScale(scale_limit=[1, 1.2], p=1),\n",
    "        CenterCrop((img_size, img_size, num_img), p=1)\n",
    "    ], p=1)"
   ]
  },
  {
   "cell_type": "code",
   "execution_count": null,
   "metadata": {
    "execution": {
     "iopub.execute_input": "2021-08-27T19:28:38.255497Z",
     "iopub.status.busy": "2021-08-27T19:28:38.255048Z",
     "iopub.status.idle": "2021-08-27T19:28:38.261933Z",
     "shell.execute_reply": "2021-08-27T19:28:38.261092Z",
     "shell.execute_reply.started": "2021-08-27T19:28:38.255463Z"
    }
   },
   "outputs": [],
   "source": [
    "# # for testing the cell below\n",
    "\n",
    "# train_df = pd.read_csv(train_path)\n",
    "# df_train, df_val = model_selection.train_test_split(train_df, test_size=0.2, random_state=38, stratify=train_df[\"MGMT_value\"])\n",
    "# train_dataset = RSNADataset(df_train, mri_types[0], transform=transforms_train)"
   ]
  },
  {
   "cell_type": "code",
   "execution_count": null,
   "metadata": {
    "execution": {
     "iopub.execute_input": "2021-08-27T19:28:38.26362Z",
     "iopub.status.busy": "2021-08-27T19:28:38.263249Z",
     "iopub.status.idle": "2021-08-27T19:28:38.269896Z",
     "shell.execute_reply": "2021-08-27T19:28:38.269162Z",
     "shell.execute_reply.started": "2021-08-27T19:28:38.263585Z"
    }
   },
   "outputs": [],
   "source": [
    "# # creates animation to check the dataset\n",
    "\n",
    "# from matplotlib import animation, rc\n",
    "# rc('animation', html='jshtml')\n",
    "\n",
    "\n",
    "# def create_animation(ims):\n",
    "#     fig = plt.figure(figsize=(6, 6))\n",
    "#     plt.axis('off')\n",
    "#     im = plt.imshow(ims[0], cmap=\"gray\")\n",
    "\n",
    "#     def animate_func(i):\n",
    "#         im.set_array(ims[i])\n",
    "#         return [im]\n",
    "\n",
    "#     return animation.FuncAnimation(fig, animate_func, frames = len(ims), interval = 1000//24)\n",
    "\n",
    "# test = train_dataset.__getitem__(100)\n",
    "# create_animation(test[0])"
   ]
  },
  {
   "cell_type": "markdown",
   "metadata": {},
   "source": [
    "## 3.Model"
   ]
  },
  {
   "cell_type": "code",
   "execution_count": null,
   "metadata": {
    "execution": {
     "iopub.execute_input": "2021-08-27T19:28:38.271569Z",
     "iopub.status.busy": "2021-08-27T19:28:38.271198Z",
     "iopub.status.idle": "2021-08-27T19:28:38.278905Z",
     "shell.execute_reply": "2021-08-27T19:28:38.277955Z",
     "shell.execute_reply.started": "2021-08-27T19:28:38.271535Z"
    }
   },
   "outputs": [],
   "source": [
    "class Model(nn.Module):\n",
    "    def __init__(self):\n",
    "        super().__init__()\n",
    "        self.net = EfficientNet3D.from_name(\"efficientnet-b0\", override_params={'num_classes': 2}, in_channels=1)\n",
    "        n_features = self.net._fc.in_features\n",
    "        self.net._fc = nn.Linear(in_features=n_features, out_features=1, bias=True)\n",
    "        \n",
    "    def forward(self, x):\n",
    "        return self.net(x)"
   ]
  },
  {
   "cell_type": "markdown",
   "metadata": {},
   "source": [
    "## 4. Train "
   ]
  },
  {
   "cell_type": "code",
   "execution_count": null,
   "metadata": {
    "execution": {
     "iopub.execute_input": "2021-08-27T19:28:38.280844Z",
     "iopub.status.busy": "2021-08-27T19:28:38.280501Z",
     "iopub.status.idle": "2021-08-27T19:28:38.297986Z",
     "shell.execute_reply": "2021-08-27T19:28:38.297192Z",
     "shell.execute_reply.started": "2021-08-27T19:28:38.28081Z"
    }
   },
   "outputs": [],
   "source": [
    "class Trainer:\n",
    "    def __init__(self, mri_type, model, criterion, optimizer, scheduler_warmup, device):\n",
    "        self.mri_type = mri_type\n",
    "        self.model = model\n",
    "        self.criterion = criterion\n",
    "        self.optimizer = optimizer\n",
    "        self.scheduler_warmup = scheduler_warmup\n",
    "        self.device = device\n",
    "        self.model_train_losses = []\n",
    "        self.model_val_losses = []\n",
    "        self.model_val_auc = []\n",
    "        \n",
    "    def fit(self, train_loader, val_loader, n_epochs):\n",
    "        best_val = 10000\n",
    "\n",
    "        for epoch in range(n_epochs): \n",
    "#             self.scheduler_warmup.step(epoch)\n",
    "            \n",
    "            # train\n",
    "            avg_train = self.train_epoch(train_loader)\n",
    "            self.model_train_losses.append(avg_train)\n",
    "            \n",
    "            print(f'epoch {epoch + 1} train: {avg_train}')\n",
    "                \n",
    "            # val\n",
    "            avg_val, auc = self.val_epoch(val_loader)\n",
    "            \n",
    "            self.model_val_losses.append(avg_val)\n",
    "            self.model_val_auc.append(auc)\n",
    "            print(f'epoch {epoch + 1} val: {avg_val}, auc: {auc}')\n",
    "\n",
    "            if avg_val < best_val: \n",
    "                print('save model ...')\n",
    "                best_val = avg_val\n",
    "                last_model =  f'{self.mri_type}-e{epoch + 1}-loss{avg_val}-auc{auc}.pt'\n",
    "                torch.save(self.model.state_dict(), f'{self.mri_type}-e{epoch + 1}-loss{avg_val}-auc{auc}.pt')\n",
    "\n",
    "            print('\\n\\n')\n",
    "            \n",
    "        return last_model\n",
    "                    \n",
    "    def train_epoch(self, train_loader):\n",
    "        train_loss = []\n",
    "        self.model.train()\n",
    "\n",
    "        for i, data in tqdm(enumerate(train_loader, 0)): \n",
    "            x, y = data\n",
    "            x = torch.unsqueeze(x, dim=1)\n",
    "            x, y = x.to(device), y.to(device)\n",
    "            self.optimizer.zero_grad()\n",
    "\n",
    "            outputs = self.model(x).squeeze(1)\n",
    "            loss = self.criterion(outputs, y)\n",
    "            loss.backward()\n",
    "            self.optimizer.step()\n",
    "\n",
    "            train_loss.append(loss.detach().item())\n",
    "        avg_train = sum(train_loss) / len(train_loss)\n",
    "        \n",
    "        return avg_train\n",
    "\n",
    "        \n",
    "    def val_epoch(self, val_loader):\n",
    "        self.model.eval()\n",
    "        outputs_all = []\n",
    "        y_all = []\n",
    "        val_loss = []    \n",
    "\n",
    "        for i, data in tqdm(enumerate(val_loader, 0)): \n",
    "            with torch.no_grad():\n",
    "                x, y = data \n",
    "                x = torch.unsqueeze(x, dim=1)\n",
    "                x, y = x.to(device), y.to(device)\n",
    "\n",
    "                outputs = self.model(x).squeeze(1)\n",
    "                loss = self.criterion(outputs, y)\n",
    "                \n",
    "                outputs = torch.sigmoid(outputs)\n",
    "                outputs_all.extend(outputs.tolist())\n",
    "                y_all.extend(y.tolist())\n",
    "                val_loss.append(loss.detach().item())      \n",
    "        avg_val = sum(val_loss) / len(val_loss)\n",
    "        auc = roc_auc_score(y_all, outputs_all)\n",
    "        \n",
    "        return avg_val, auc"
   ]
  },
  {
   "cell_type": "code",
   "execution_count": null,
   "metadata": {
    "execution": {
     "iopub.execute_input": "2021-08-27T19:28:38.300603Z",
     "iopub.status.busy": "2021-08-27T19:28:38.300304Z",
     "iopub.status.idle": "2021-08-27T19:28:38.309484Z",
     "shell.execute_reply": "2021-08-27T19:28:38.308716Z",
     "shell.execute_reply.started": "2021-08-27T19:28:38.300567Z"
    }
   },
   "outputs": [],
   "source": [
    "class GradualWarmupSchedulerV2(GradualWarmupScheduler):\n",
    "    def __init__(self, optimizer, multiplier, total_epoch, after_scheduler=None):\n",
    "        super(GradualWarmupSchedulerV2, self).__init__(optimizer, multiplier, total_epoch, after_scheduler)\n",
    "    def get_lr(self):\n",
    "        if self.last_epoch > self.total_epoch:\n",
    "            if self.after_scheduler:\n",
    "                if not self.finished:\n",
    "                    self.after_scheduler.base_lrs = [base_lr * self.multiplier for base_lr in self.base_lrs]\n",
    "                    self.finished = True\n",
    "                return self.after_scheduler.get_lr()\n",
    "            return [base_lr * self.multiplier for base_lr in self.base_lrs]\n",
    "        if self.multiplier == 1.0:\n",
    "            return [base_lr * (float(self.last_epoch) / self.total_epoch) for base_lr in self.base_lrs]\n",
    "        else:\n",
    "            return [base_lr * ((self.multiplier - 1.) * self.last_epoch / self.total_epoch + 1.) for base_lr in self.base_lrs]"
   ]
  },
  {
   "cell_type": "code",
   "execution_count": null,
   "metadata": {
    "execution": {
     "iopub.execute_input": "2021-08-27T19:28:38.311062Z",
     "iopub.status.busy": "2021-08-27T19:28:38.310579Z",
     "iopub.status.idle": "2021-08-27T19:28:38.336605Z",
     "shell.execute_reply": "2021-08-27T19:28:38.335861Z",
     "shell.execute_reply.started": "2021-08-27T19:28:38.311029Z"
    }
   },
   "outputs": [],
   "source": [
    "train_df = pd.read_csv(train_path)\n",
    "df_train, df_val = model_selection.train_test_split(train_df, test_size=0.2, random_state=38, stratify=train_df[\"MGMT_value\"])"
   ]
  },
  {
   "cell_type": "code",
   "execution_count": null,
   "metadata": {
    "execution": {
     "iopub.execute_input": "2021-08-27T19:28:38.338029Z",
     "iopub.status.busy": "2021-08-27T19:28:38.337697Z",
     "iopub.status.idle": "2021-08-27T20:40:47.193022Z",
     "shell.execute_reply": "2021-08-27T20:40:47.190257Z",
     "shell.execute_reply.started": "2021-08-27T19:28:38.337995Z"
    }
   },
   "outputs": [],
   "source": [
    "cosine_epo = 15\n",
    "warmup_epo = 2\n",
    "n_epochs = cosine_epo + warmup_epo\n",
    "\n",
    "models = []\n",
    "\n",
    "for mri_type in mri_types: \n",
    "    model = Model()\n",
    "    criterion = functional.binary_cross_entropy_with_logits\n",
    "    optimizer = torch.optim.Adam(model.parameters(), lr=0.001)\n",
    "        \n",
    "#     optimizer = torch.optim.Adam(model.parameters(), lr=3e-5)\n",
    "\n",
    "#     scheduler_cosine = torch.optim.lr_scheduler.CosineAnnealingLR(optimizer, cosine_epo)\n",
    "#     scheduler_warmup = GradualWarmupSchedulerV2(optimizer, multiplier=10, total_epoch=warmup_epo, after_scheduler=scheduler_cosine)\n",
    "\n",
    "    device = torch.device(f'cuda:0' if torch.cuda.is_available() else 'cpu')\n",
    "    model.to(device)\n",
    "\n",
    "    train_dataset = RSNADataset(df_train, mri_type, transform=transforms_train)\n",
    "    train_loader = DataLoader(train_dataset, shuffle=True, batch_size=4, num_workers=4)\n",
    "\n",
    "    val_dataset = RSNADataset(df_val, mri_type)\n",
    "    val_loader = DataLoader(val_dataset, shuffle=False, batch_size=4, num_workers=4)\n",
    "\n",
    "#     mri_trainer = Trainer(mri_type, model, criterion, optimizer, scheduler_warmup, device)\n",
    "    scheduler_warmup=None\n",
    "    mri_trainer = Trainer(mri_type, model, criterion, optimizer, scheduler_warmup, device)\n",
    "\n",
    "    last_best_model = mri_trainer.fit(train_loader, val_loader, n_epochs)\n",
    "    \n",
    "    models.append(last_best_model)"
   ]
  },
  {
   "cell_type": "markdown",
   "metadata": {},
   "source": [
    "## 5. Predict"
   ]
  },
  {
   "cell_type": "code",
   "execution_count": null,
   "metadata": {
    "_kg_hide-input": true,
    "_kg_hide-output": true,
    "execution": {
     "iopub.status.busy": "2021-08-27T19:16:22.89019Z",
     "iopub.status.idle": "2021-08-27T19:16:22.890757Z"
    }
   },
   "outputs": [],
   "source": [
    "device = torch.device(f'cuda:0' if torch.cuda.is_available() else 'cpu')\n",
    "\n",
    "df_test = pd.read_csv(test_path)\n",
    "\n",
    "write = 0\n",
    "\n",
    "for trained_model in range(len(models)): \n",
    "    model = Model()\n",
    "    model.to(device)\n",
    "    checkpoint = torch.load(models[trained_model])\n",
    "    model.load_state_dict(checkpoint)\n",
    "    model.eval()\n",
    "    \n",
    "    test_dataset = RSNADataset(df_test, mri_type=mri_types[trained_model], mode=\"test\")\n",
    "    test_loader = DataLoader(test_dataset, batch_size=4, shuffle=False, num_workers=8, pin_memory=True)\n",
    "    \n",
    "    y_pred = []\n",
    "\n",
    "    for e, batch in enumerate(test_loader):\n",
    "        print(f\"{e + 1}/{len(test_loader)}\", end=\"\\r\")\n",
    "        \n",
    "        batch, brat = batch\n",
    "        with torch.no_grad():\n",
    "            tmp_pred = torch.sigmoid(model(batch.to(device).unsqueeze(1))).squeeze()\n",
    "            y_pred.extend(tmp_pred.tolist())\n",
    "    \n",
    "    y_pred = np.array(y_pred)\n",
    "    \n",
    "    if write == 0:\n",
    "        write = 1\n",
    "        submission = pd.DataFrame({\"BraTS21ID\": df_test['BraTS21ID'].apply(lambda x: str(x).zfill(5)), \"MGMT_value\": y_pred})\n",
    "    else: \n",
    "        submission['MGMT_value'] += y_pred\n",
    "\n",
    "submission['MGMT_value'] /= len(models)"
   ]
  },
  {
   "cell_type": "code",
   "execution_count": null,
   "metadata": {
    "execution": {
     "iopub.status.busy": "2021-08-23T23:04:14.246025Z",
     "iopub.status.idle": "2021-08-23T23:04:14.246567Z"
    }
   },
   "outputs": [],
   "source": [
    "submission.to_csv(\"submission.csv\", index=False)"
   ]
  },
  {
   "cell_type": "code",
   "execution_count": null,
   "metadata": {
    "execution": {
     "iopub.execute_input": "2021-08-27T00:19:51.214465Z",
     "iopub.status.busy": "2021-08-27T00:19:51.214189Z",
     "iopub.status.idle": "2021-08-27T00:19:51.219114Z",
     "shell.execute_reply": "2021-08-27T00:19:51.218229Z",
     "shell.execute_reply.started": "2021-08-27T00:19:51.2144Z"
    }
   },
   "outputs": [],
   "source": [
    "# try to take off data augmentation and use 15 epochs instead\n",
    "# also take off learning rate scheduled, try 3 value: 3e-5, 0.001, 0.0001\n",
    "\n",
    "# version nay bo scheduler warmup nhung ma keep data augmentation\n",
    "# chi train duoc 2 epoch thoi, xong no se bi full data loader"
   ]
  }
 ],
 "metadata": {
  "kernelspec": {
   "display_name": "Python 3",
   "language": "python",
   "name": "python3"
  },
  "language_info": {
   "codemirror_mode": {
    "name": "ipython",
    "version": 3
   },
   "file_extension": ".py",
   "mimetype": "text/x-python",
   "name": "python",
   "nbconvert_exporter": "python",
   "pygments_lexer": "ipython3",
   "version": "3.8.5"
  }
 },
 "nbformat": 4,
 "nbformat_minor": 4
}
